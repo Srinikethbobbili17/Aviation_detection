{
 "cells": [
  {
   "cell_type": "code",
   "id": "initial_id",
   "metadata": {
    "collapsed": true,
    "ExecuteTime": {
     "end_time": "2025-02-19T08:21:59.329646Z",
     "start_time": "2025-02-19T08:21:59.106537Z"
    }
   },
   "source": [
    "import pandas as pd\n",
    "\n",
    "df = pd.read_csv('data')\n",
    "\n",
    "def compare_aircraft(df, aircraft1, aircraft2):\n",
    "    aircraft1_data = df[df['class'] == aircraft1]\n",
    "    aircraft2_data = df[df['class'] == aircraft2]\n",
    "\n",
    "    aircraft1_avg_width = aircraft1_data['width'].mean()\n",
    "    aircraft1_avg_height = aircraft1_data['height'].mean()\n",
    "    aircraft1_avg_area = ((aircraft1_data['xmax'] - aircraft1_data['xmin']) * (aircraft1_data['ymax'] - aircraft1_data['ymin'])).mean()\n",
    "\n",
    "    aircraft2_avg_width = aircraft2_data['width'].mean()\n",
    "    aircraft2_avg_height = aircraft2_data['height'].mean()\n",
    "    aircraft2_avg_area = ((aircraft2_data['xmax'] - aircraft2_data['xmin']) * (aircraft2_data['ymax'] - aircraft2_data['ymin'])).mean()\n",
    "\n",
    "    # Print the comparison\n",
    "    print(f\"Comparison between {aircraft1} and {aircraft2}:\")\n",
    "    print(f\"{aircraft1} - Average Width: {aircraft1_avg_width}, Average Height: {aircraft1_avg_height}, Average Area: {aircraft1_avg_area}\")\n",
    "    print(f\"{aircraft2} - Average Width: {aircraft2_avg_width}, Average Height: {aircraft2_avg_height}, Average Area: {aircraft2_avg_area}\")\n",
    "\n",
    "    if aircraft1_avg_area > aircraft2_avg_area:\n",
    "        print(f\"{aircraft1} is larger in area and might be considered 'better' based on size.\")\n",
    "    elif aircraft1_avg_area < aircraft2_avg_area:\n",
    "        print(f\"{aircraft2} is larger in area and might be considered 'better' based on size.\")\n",
    "    else:\n",
    "        print(\"Both aircraft are similar in size.\")\n",
    "compare_aircraft(df, 'F16', 'Mi28')"
   ],
   "outputs": [
    {
     "name": "stdout",
     "output_type": "stream",
     "text": [
      "Comparison between F16 and Mi28:\n",
      "F16 - Average Width: 2268.623873873874, Average Height: 1542.0225225225224, Average Area: 473156.10585585586\n",
      "Mi28 - Average Width: 1732.904761904762, Average Height: 1125.938775510204, Average Area: 207683.15646258503\n",
      "F16 is larger in area and might be considered 'better' based on size.\n"
     ]
    }
   ],
   "execution_count": 8
  },
  {
   "metadata": {},
   "cell_type": "code",
   "outputs": [],
   "execution_count": null,
   "source": "",
   "id": "67c4a8d798a18e9d"
  }
 ],
 "metadata": {
  "kernelspec": {
   "display_name": "Python 3",
   "language": "python",
   "name": "python3"
  },
  "language_info": {
   "codemirror_mode": {
    "name": "ipython",
    "version": 2
   },
   "file_extension": ".py",
   "mimetype": "text/x-python",
   "name": "python",
   "nbconvert_exporter": "python",
   "pygments_lexer": "ipython2",
   "version": "2.7.6"
  }
 },
 "nbformat": 4,
 "nbformat_minor": 5
}
